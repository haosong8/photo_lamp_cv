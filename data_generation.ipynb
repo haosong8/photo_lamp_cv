{
 "cells": [
  {
   "cell_type": "markdown",
   "metadata": {},
   "source": [
    "## Data Generation"
   ]
  },
  {
   "cell_type": "markdown",
   "metadata": {},
   "source": [
    "This data is generated from stock images taken from Pexels.com that are in a portrait orientation. Using a script, each image has a series of different exposure gains from +1 EV to +5 EV of exposure compensation using Adobe Camera Raw. The 5 exposure gains are then printed and taken photos of using a controlled studio environment with the camera metering at 0 EV. Each exposure gain is then compared to the original using a Structrual Similarity Index to measure the similarity between the backlit and original image. The EV with the highest score is then labeled as the correct exposure compensation for the image.\n",
    "Since stock photography websites typically consists of images that were taken by a DSLR and are typically of high quality, half the images in the dataset will be images taken by a phone.\n",
    "### Dataset Photo Distribution:\n",
    "Quality Photo Distribution\n",
    "- 40% Professional Quality Photos\n",
    "- 50% Phone Quality Photos\n",
    "- 8% Old Photos Scans Taken with a Phone\n",
    "\n",
    "Color Photo Distribution\n",
    "- 90% Color\n",
    "- 10% B&W"
   ]
  },
  {
   "cell_type": "code",
   "execution_count": 3,
   "metadata": {},
   "outputs": [],
   "source": [
    "# Imports\n",
    "import numpy as np\n",
    "import pandas as pd\n",
    "import matplotlib\n",
    "from matplotlib import pyplot as plt\n",
    "import seaborn as sns\n",
    "import cv2"
   ]
  },
  {
   "cell_type": "markdown",
   "metadata": {},
   "source": [
    "Imports all the original photos and computes black, shadows, midtones, highlights, and whites values as a percentile"
   ]
  },
  {
   "cell_type": "code",
   "execution_count": 4,
   "metadata": {},
   "outputs": [],
   "source": [
    "# Function to compute percentiles of an image\n",
    "def compute_percentiles(image):\n",
    "    # Convert to grayscale if image is colored\n",
    "    if len(image.shape) == 3:\n",
    "        gray_image = cv2.cvtColor(image, cv2.COLOR_BGR2GRAY)\n",
    "    else:\n",
    "        gray_image = image\n",
    "\n",
    "    # Compute the histogram\n",
    "    hist, bins = np.histogram(gray_image.flatten(), 256, [0, 256])\n",
    "\n",
    "    # Compute cumulative distribution function (CDF)\n",
    "    cdf = hist.cumsum()\n",
    "    cdf_normalized = cdf * hist.max() / cdf.max()\n",
    "\n",
    "    # Define percentiles\n",
    "    percentiles = {\n",
    "        \"blacks\": np.percentile(gray_image, 5),  # 0-5%\n",
    "        \"shadows\": np.percentile(gray_image, 25),  # 5-25%\n",
    "        \"midtones\": np.percentile(gray_image, 50),  # 25-75%\n",
    "        \"highlights\": np.percentile(gray_image, 75),  # 75-95%\n",
    "        \"whites\": np.percentile(gray_image, 95)  # 95-100%\n",
    "    }\n",
    "    \n",
    "    return percentiles"
   ]
  },
  {
   "cell_type": "code",
   "execution_count": null,
   "metadata": {},
   "outputs": [],
   "source": []
  }
 ],
 "metadata": {
  "kernelspec": {
   "display_name": "ml_project",
   "language": "python",
   "name": "python3"
  },
  "language_info": {
   "codemirror_mode": {
    "name": "ipython",
    "version": 3
   },
   "file_extension": ".py",
   "mimetype": "text/x-python",
   "name": "python",
   "nbconvert_exporter": "python",
   "pygments_lexer": "ipython3",
   "version": "3.12.4"
  }
 },
 "nbformat": 4,
 "nbformat_minor": 2
}
